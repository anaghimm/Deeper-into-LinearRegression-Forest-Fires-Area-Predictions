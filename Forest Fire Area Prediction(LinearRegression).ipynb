{
 "cells": [
  {
   "cell_type": "markdown",
   "id": "bc2b0609",
   "metadata": {},
   "source": [
    "# Forest Fires Dataset:Predicting the fire area using LinearRegression"
   ]
  },
  {
   "cell_type": "code",
   "execution_count": 1,
   "id": "8c6d13c4",
   "metadata": {},
   "outputs": [],
   "source": [
    "import pandas as pd\n",
    "import numpy as np\n",
    "import matplotlib.pyplot as plt\n",
    "import seaborn as sns"
   ]
  },
  {
   "cell_type": "code",
   "execution_count": 2,
   "id": "77a9fa1b",
   "metadata": {},
   "outputs": [
    {
     "name": "stdout",
     "output_type": "stream",
     "text": [
      "<class 'pandas.core.frame.DataFrame'>\n",
      "RangeIndex: 517 entries, 0 to 516\n",
      "Data columns (total 13 columns):\n",
      " #   Column  Non-Null Count  Dtype  \n",
      "---  ------  --------------  -----  \n",
      " 0   X       517 non-null    int64  \n",
      " 1   Y       517 non-null    int64  \n",
      " 2   month   517 non-null    object \n",
      " 3   day     517 non-null    object \n",
      " 4   FFMC    517 non-null    float64\n",
      " 5   DMC     517 non-null    float64\n",
      " 6   DC      517 non-null    float64\n",
      " 7   ISI     517 non-null    float64\n",
      " 8   temp    517 non-null    float64\n",
      " 9   RH      517 non-null    int64  \n",
      " 10  wind    517 non-null    float64\n",
      " 11  rain    517 non-null    float64\n",
      " 12  area    517 non-null    float64\n",
      "dtypes: float64(8), int64(3), object(2)\n",
      "memory usage: 52.6+ KB\n"
     ]
    }
   ],
   "source": [
    "data=pd.read_csv(r\"forestfires.csv\")\n",
    "data.info()"
   ]
  },
  {
   "cell_type": "code",
   "execution_count": 3,
   "id": "1f667a47",
   "metadata": {},
   "outputs": [
    {
     "data": {
      "text/html": [
       "<div>\n",
       "<style scoped>\n",
       "    .dataframe tbody tr th:only-of-type {\n",
       "        vertical-align: middle;\n",
       "    }\n",
       "\n",
       "    .dataframe tbody tr th {\n",
       "        vertical-align: top;\n",
       "    }\n",
       "\n",
       "    .dataframe thead th {\n",
       "        text-align: right;\n",
       "    }\n",
       "</style>\n",
       "<table border=\"1\" class=\"dataframe\">\n",
       "  <thead>\n",
       "    <tr style=\"text-align: right;\">\n",
       "      <th></th>\n",
       "      <th>X</th>\n",
       "      <th>Y</th>\n",
       "      <th>month</th>\n",
       "      <th>day</th>\n",
       "      <th>FFMC</th>\n",
       "      <th>DMC</th>\n",
       "      <th>DC</th>\n",
       "      <th>ISI</th>\n",
       "      <th>temp</th>\n",
       "      <th>RH</th>\n",
       "      <th>wind</th>\n",
       "      <th>rain</th>\n",
       "      <th>area</th>\n",
       "    </tr>\n",
       "  </thead>\n",
       "  <tbody>\n",
       "    <tr>\n",
       "      <th>0</th>\n",
       "      <td>7</td>\n",
       "      <td>5</td>\n",
       "      <td>mar</td>\n",
       "      <td>fri</td>\n",
       "      <td>86.2</td>\n",
       "      <td>26.2</td>\n",
       "      <td>94.3</td>\n",
       "      <td>5.1</td>\n",
       "      <td>8.2</td>\n",
       "      <td>51</td>\n",
       "      <td>6.7</td>\n",
       "      <td>0.0</td>\n",
       "      <td>0.0</td>\n",
       "    </tr>\n",
       "    <tr>\n",
       "      <th>1</th>\n",
       "      <td>7</td>\n",
       "      <td>4</td>\n",
       "      <td>oct</td>\n",
       "      <td>tue</td>\n",
       "      <td>90.6</td>\n",
       "      <td>35.4</td>\n",
       "      <td>669.1</td>\n",
       "      <td>6.7</td>\n",
       "      <td>18.0</td>\n",
       "      <td>33</td>\n",
       "      <td>0.9</td>\n",
       "      <td>0.0</td>\n",
       "      <td>0.0</td>\n",
       "    </tr>\n",
       "    <tr>\n",
       "      <th>2</th>\n",
       "      <td>7</td>\n",
       "      <td>4</td>\n",
       "      <td>oct</td>\n",
       "      <td>sat</td>\n",
       "      <td>90.6</td>\n",
       "      <td>43.7</td>\n",
       "      <td>686.9</td>\n",
       "      <td>6.7</td>\n",
       "      <td>14.6</td>\n",
       "      <td>33</td>\n",
       "      <td>1.3</td>\n",
       "      <td>0.0</td>\n",
       "      <td>0.0</td>\n",
       "    </tr>\n",
       "    <tr>\n",
       "      <th>3</th>\n",
       "      <td>8</td>\n",
       "      <td>6</td>\n",
       "      <td>mar</td>\n",
       "      <td>fri</td>\n",
       "      <td>91.7</td>\n",
       "      <td>33.3</td>\n",
       "      <td>77.5</td>\n",
       "      <td>9.0</td>\n",
       "      <td>8.3</td>\n",
       "      <td>97</td>\n",
       "      <td>4.0</td>\n",
       "      <td>0.2</td>\n",
       "      <td>0.0</td>\n",
       "    </tr>\n",
       "    <tr>\n",
       "      <th>4</th>\n",
       "      <td>8</td>\n",
       "      <td>6</td>\n",
       "      <td>mar</td>\n",
       "      <td>sun</td>\n",
       "      <td>89.3</td>\n",
       "      <td>51.3</td>\n",
       "      <td>102.2</td>\n",
       "      <td>9.6</td>\n",
       "      <td>11.4</td>\n",
       "      <td>99</td>\n",
       "      <td>1.8</td>\n",
       "      <td>0.0</td>\n",
       "      <td>0.0</td>\n",
       "    </tr>\n",
       "  </tbody>\n",
       "</table>\n",
       "</div>"
      ],
      "text/plain": [
       "   X  Y month  day  FFMC   DMC     DC  ISI  temp  RH  wind  rain  area\n",
       "0  7  5   mar  fri  86.2  26.2   94.3  5.1   8.2  51   6.7   0.0   0.0\n",
       "1  7  4   oct  tue  90.6  35.4  669.1  6.7  18.0  33   0.9   0.0   0.0\n",
       "2  7  4   oct  sat  90.6  43.7  686.9  6.7  14.6  33   1.3   0.0   0.0\n",
       "3  8  6   mar  fri  91.7  33.3   77.5  9.0   8.3  97   4.0   0.2   0.0\n",
       "4  8  6   mar  sun  89.3  51.3  102.2  9.6  11.4  99   1.8   0.0   0.0"
      ]
     },
     "execution_count": 3,
     "metadata": {},
     "output_type": "execute_result"
    }
   ],
   "source": [
    "data.head()"
   ]
  },
  {
   "cell_type": "markdown",
   "id": "3a0c6b28",
   "metadata": {},
   "source": [
    "## Data cleaning:\n",
    "Before we start training and applying the model it is a must that we get to data cleaning:\n",
    "* Deleting the duplicated rows.\n",
    "* Reviewing the unexpected values for each categorical column.\n",
    "* Dropping the null values(only for columns X and Y since 1<=X<=9 && 2<=Y<=9)"
   ]
  },
  {
   "cell_type": "code",
   "execution_count": 4,
   "id": "9fc29f42",
   "metadata": {},
   "outputs": [
    {
     "data": {
      "text/plain": [
       "517"
      ]
     },
     "execution_count": 4,
     "metadata": {},
     "output_type": "execute_result"
    }
   ],
   "source": [
    "data.duplicated().count()"
   ]
  },
  {
   "cell_type": "code",
   "execution_count": 5,
   "id": "7db7bbea",
   "metadata": {},
   "outputs": [],
   "source": [
    "data.drop_duplicates(inplace=True)"
   ]
  },
  {
   "cell_type": "code",
   "execution_count": 6,
   "id": "2100a1b4",
   "metadata": {},
   "outputs": [
    {
     "data": {
      "text/plain": [
       "aug    182\n",
       "sep    172\n",
       "mar     53\n",
       "jul     32\n",
       "feb     20\n",
       "jun     16\n",
       "oct     15\n",
       "apr      9\n",
       "dec      9\n",
       "jan      2\n",
       "may      2\n",
       "nov      1\n",
       "Name: month, dtype: int64"
      ]
     },
     "execution_count": 6,
     "metadata": {},
     "output_type": "execute_result"
    }
   ],
   "source": [
    "data['month'].value_counts()"
   ]
  },
  {
   "cell_type": "code",
   "execution_count": 7,
   "id": "a0516685",
   "metadata": {},
   "outputs": [
    {
     "data": {
      "text/plain": [
       "sun    94\n",
       "fri    84\n",
       "sat    83\n",
       "mon    74\n",
       "tue    64\n",
       "thu    61\n",
       "wed    53\n",
       "Name: day, dtype: int64"
      ]
     },
     "execution_count": 7,
     "metadata": {},
     "output_type": "execute_result"
    }
   ],
   "source": [
    "data['day'].value_counts()"
   ]
  },
  {
   "cell_type": "code",
   "execution_count": 8,
   "id": "df7cca1b",
   "metadata": {
    "scrolled": true
   },
   "outputs": [
    {
     "data": {
      "text/html": [
       "<div>\n",
       "<style scoped>\n",
       "    .dataframe tbody tr th:only-of-type {\n",
       "        vertical-align: middle;\n",
       "    }\n",
       "\n",
       "    .dataframe tbody tr th {\n",
       "        vertical-align: top;\n",
       "    }\n",
       "\n",
       "    .dataframe thead th {\n",
       "        text-align: right;\n",
       "    }\n",
       "</style>\n",
       "<table border=\"1\" class=\"dataframe\">\n",
       "  <thead>\n",
       "    <tr style=\"text-align: right;\">\n",
       "      <th></th>\n",
       "      <th>X</th>\n",
       "      <th>Y</th>\n",
       "      <th>month</th>\n",
       "      <th>day</th>\n",
       "      <th>FFMC</th>\n",
       "      <th>DMC</th>\n",
       "      <th>DC</th>\n",
       "      <th>ISI</th>\n",
       "      <th>temp</th>\n",
       "      <th>RH</th>\n",
       "      <th>wind</th>\n",
       "      <th>rain</th>\n",
       "      <th>area</th>\n",
       "    </tr>\n",
       "  </thead>\n",
       "  <tbody>\n",
       "    <tr>\n",
       "      <th>0</th>\n",
       "      <td>7</td>\n",
       "      <td>5</td>\n",
       "      <td>mar</td>\n",
       "      <td>fri</td>\n",
       "      <td>86.2</td>\n",
       "      <td>26.2</td>\n",
       "      <td>94.3</td>\n",
       "      <td>5.1</td>\n",
       "      <td>8.2</td>\n",
       "      <td>51</td>\n",
       "      <td>6.7</td>\n",
       "      <td>0.0</td>\n",
       "      <td>0.00</td>\n",
       "    </tr>\n",
       "    <tr>\n",
       "      <th>1</th>\n",
       "      <td>7</td>\n",
       "      <td>4</td>\n",
       "      <td>oct</td>\n",
       "      <td>tue</td>\n",
       "      <td>90.6</td>\n",
       "      <td>35.4</td>\n",
       "      <td>669.1</td>\n",
       "      <td>6.7</td>\n",
       "      <td>18.0</td>\n",
       "      <td>33</td>\n",
       "      <td>0.9</td>\n",
       "      <td>0.0</td>\n",
       "      <td>0.00</td>\n",
       "    </tr>\n",
       "    <tr>\n",
       "      <th>2</th>\n",
       "      <td>7</td>\n",
       "      <td>4</td>\n",
       "      <td>oct</td>\n",
       "      <td>sat</td>\n",
       "      <td>90.6</td>\n",
       "      <td>43.7</td>\n",
       "      <td>686.9</td>\n",
       "      <td>6.7</td>\n",
       "      <td>14.6</td>\n",
       "      <td>33</td>\n",
       "      <td>1.3</td>\n",
       "      <td>0.0</td>\n",
       "      <td>0.00</td>\n",
       "    </tr>\n",
       "    <tr>\n",
       "      <th>3</th>\n",
       "      <td>8</td>\n",
       "      <td>6</td>\n",
       "      <td>mar</td>\n",
       "      <td>fri</td>\n",
       "      <td>91.7</td>\n",
       "      <td>33.3</td>\n",
       "      <td>77.5</td>\n",
       "      <td>9.0</td>\n",
       "      <td>8.3</td>\n",
       "      <td>97</td>\n",
       "      <td>4.0</td>\n",
       "      <td>0.2</td>\n",
       "      <td>0.00</td>\n",
       "    </tr>\n",
       "    <tr>\n",
       "      <th>4</th>\n",
       "      <td>8</td>\n",
       "      <td>6</td>\n",
       "      <td>mar</td>\n",
       "      <td>sun</td>\n",
       "      <td>89.3</td>\n",
       "      <td>51.3</td>\n",
       "      <td>102.2</td>\n",
       "      <td>9.6</td>\n",
       "      <td>11.4</td>\n",
       "      <td>99</td>\n",
       "      <td>1.8</td>\n",
       "      <td>0.0</td>\n",
       "      <td>0.00</td>\n",
       "    </tr>\n",
       "    <tr>\n",
       "      <th>...</th>\n",
       "      <td>...</td>\n",
       "      <td>...</td>\n",
       "      <td>...</td>\n",
       "      <td>...</td>\n",
       "      <td>...</td>\n",
       "      <td>...</td>\n",
       "      <td>...</td>\n",
       "      <td>...</td>\n",
       "      <td>...</td>\n",
       "      <td>...</td>\n",
       "      <td>...</td>\n",
       "      <td>...</td>\n",
       "      <td>...</td>\n",
       "    </tr>\n",
       "    <tr>\n",
       "      <th>512</th>\n",
       "      <td>4</td>\n",
       "      <td>3</td>\n",
       "      <td>aug</td>\n",
       "      <td>sun</td>\n",
       "      <td>81.6</td>\n",
       "      <td>56.7</td>\n",
       "      <td>665.6</td>\n",
       "      <td>1.9</td>\n",
       "      <td>27.8</td>\n",
       "      <td>32</td>\n",
       "      <td>2.7</td>\n",
       "      <td>0.0</td>\n",
       "      <td>6.44</td>\n",
       "    </tr>\n",
       "    <tr>\n",
       "      <th>513</th>\n",
       "      <td>2</td>\n",
       "      <td>4</td>\n",
       "      <td>aug</td>\n",
       "      <td>sun</td>\n",
       "      <td>81.6</td>\n",
       "      <td>56.7</td>\n",
       "      <td>665.6</td>\n",
       "      <td>1.9</td>\n",
       "      <td>21.9</td>\n",
       "      <td>71</td>\n",
       "      <td>5.8</td>\n",
       "      <td>0.0</td>\n",
       "      <td>54.29</td>\n",
       "    </tr>\n",
       "    <tr>\n",
       "      <th>514</th>\n",
       "      <td>7</td>\n",
       "      <td>4</td>\n",
       "      <td>aug</td>\n",
       "      <td>sun</td>\n",
       "      <td>81.6</td>\n",
       "      <td>56.7</td>\n",
       "      <td>665.6</td>\n",
       "      <td>1.9</td>\n",
       "      <td>21.2</td>\n",
       "      <td>70</td>\n",
       "      <td>6.7</td>\n",
       "      <td>0.0</td>\n",
       "      <td>11.16</td>\n",
       "    </tr>\n",
       "    <tr>\n",
       "      <th>515</th>\n",
       "      <td>1</td>\n",
       "      <td>4</td>\n",
       "      <td>aug</td>\n",
       "      <td>sat</td>\n",
       "      <td>94.4</td>\n",
       "      <td>146.0</td>\n",
       "      <td>614.7</td>\n",
       "      <td>11.3</td>\n",
       "      <td>25.6</td>\n",
       "      <td>42</td>\n",
       "      <td>4.0</td>\n",
       "      <td>0.0</td>\n",
       "      <td>0.00</td>\n",
       "    </tr>\n",
       "    <tr>\n",
       "      <th>516</th>\n",
       "      <td>6</td>\n",
       "      <td>3</td>\n",
       "      <td>nov</td>\n",
       "      <td>tue</td>\n",
       "      <td>79.5</td>\n",
       "      <td>3.0</td>\n",
       "      <td>106.7</td>\n",
       "      <td>1.1</td>\n",
       "      <td>11.8</td>\n",
       "      <td>31</td>\n",
       "      <td>4.5</td>\n",
       "      <td>0.0</td>\n",
       "      <td>0.00</td>\n",
       "    </tr>\n",
       "  </tbody>\n",
       "</table>\n",
       "<p>513 rows × 13 columns</p>\n",
       "</div>"
      ],
      "text/plain": [
       "     X  Y month  day  FFMC    DMC     DC   ISI  temp  RH  wind  rain   area\n",
       "0    7  5   mar  fri  86.2   26.2   94.3   5.1   8.2  51   6.7   0.0   0.00\n",
       "1    7  4   oct  tue  90.6   35.4  669.1   6.7  18.0  33   0.9   0.0   0.00\n",
       "2    7  4   oct  sat  90.6   43.7  686.9   6.7  14.6  33   1.3   0.0   0.00\n",
       "3    8  6   mar  fri  91.7   33.3   77.5   9.0   8.3  97   4.0   0.2   0.00\n",
       "4    8  6   mar  sun  89.3   51.3  102.2   9.6  11.4  99   1.8   0.0   0.00\n",
       "..  .. ..   ...  ...   ...    ...    ...   ...   ...  ..   ...   ...    ...\n",
       "512  4  3   aug  sun  81.6   56.7  665.6   1.9  27.8  32   2.7   0.0   6.44\n",
       "513  2  4   aug  sun  81.6   56.7  665.6   1.9  21.9  71   5.8   0.0  54.29\n",
       "514  7  4   aug  sun  81.6   56.7  665.6   1.9  21.2  70   6.7   0.0  11.16\n",
       "515  1  4   aug  sat  94.4  146.0  614.7  11.3  25.6  42   4.0   0.0   0.00\n",
       "516  6  3   nov  tue  79.5    3.0  106.7   1.1  11.8  31   4.5   0.0   0.00\n",
       "\n",
       "[513 rows x 13 columns]"
      ]
     },
     "execution_count": 8,
     "metadata": {},
     "output_type": "execute_result"
    }
   ],
   "source": [
    "data.dropna(subset=['X', 'Y'])"
   ]
  },
  {
   "cell_type": "markdown",
   "id": "527602d1",
   "metadata": {},
   "source": [
    "In order to choose the most effective standardization technique for FFMC,DMC,DC and ISI we have to make data visualizations to identify the distribution of each feature(it helps us in the pre processing step before training the model):"
   ]
  },
  {
   "cell_type": "markdown",
   "id": "e1aff15b",
   "metadata": {},
   "source": [
    "* DMC:"
   ]
  },
  {
   "cell_type": "code",
   "execution_count": 9,
   "id": "3feb7699",
   "metadata": {
    "scrolled": false
   },
   "outputs": [
    {
     "data": {
      "text/plain": [
       "(array([36., 42., 42., 17., 49., 81., 59., 72., 29., 29.,  6., 11., 17.,\n",
       "         7.,  3., 13.]),\n",
       " array([  1.1   ,  19.2375,  37.375 ,  55.5125,  73.65  ,  91.7875,\n",
       "        109.925 , 128.0625, 146.2   , 164.3375, 182.475 , 200.6125,\n",
       "        218.75  , 236.8875, 255.025 , 273.1625, 291.3   ]),\n",
       " <BarContainer object of 16 artists>)"
      ]
     },
     "execution_count": 9,
     "metadata": {},
     "output_type": "execute_result"
    },
    {
     "data": {
      "image/png": "[encoded data removed]",
      "text/plain": [
       "<Figure size 640x480 with 1 Axes>"
      ]
     },
     "metadata": {},
     "output_type": "display_data"
    }
   ],
   "source": [
    "plt.hist(data['DMC'],bins='auto')"
   ]
  },
  {
   "cell_type": "markdown",
   "id": "4926d7d2",
   "metadata": {},
   "source": [
    "=> Standardization"
   ]
  },
  {
   "cell_type": "markdown",
   "id": "708e381d",
   "metadata": {},
   "source": [
    "* DC:"
   ]
  },
  {
   "cell_type": "code",
   "execution_count": 10,
   "id": "6bc9c1dd",
   "metadata": {
    "scrolled": true
   },
   "outputs": [
    {
     "data": {
      "text/plain": [
       "{'whiskers': [<matplotlib.lines.Line2D at 0x27c96745790>,\n",
       "  <matplotlib.lines.Line2D at 0x27c96745a60>],\n",
       " 'caps': [<matplotlib.lines.Line2D at 0x27c96745d30>,\n",
       "  <matplotlib.lines.Line2D at 0x27c96756040>],\n",
       " 'boxes': [<matplotlib.lines.Line2D at 0x27c967454c0>],\n",
       " 'medians': [<matplotlib.lines.Line2D at 0x27c96756310>],\n",
       " 'fliers': [<matplotlib.lines.Line2D at 0x27c967565e0>],\n",
       " 'means': []}"
      ]
     },
     "execution_count": 10,
     "metadata": {},
     "output_type": "execute_result"
    },
    {
     "data": {
      "image/png": "[encoded data removed]",
      "text/plain": [
       "<Figure size 640x480 with 1 Axes>"
      ]
     },
     "metadata": {},
     "output_type": "display_data"
    }
   ],
   "source": [
    "plt.boxplot(data['DC'])"
   ]
  },
  {
   "cell_type": "markdown",
   "id": "2dec1e8d",
   "metadata": {},
   "source": [
    "=> We notice skewed distribution so the right tech to us is MinMaxScaler."
   ]
  },
  {
   "cell_type": "markdown",
   "id": "6f3885fc",
   "metadata": {},
   "source": [
    "* FFMC:"
   ]
  },
  {
   "cell_type": "code",
   "execution_count": 11,
   "id": "42c42024",
   "metadata": {},
   "outputs": [
    {
     "data": {
      "text/plain": [
       "{'whiskers': [<matplotlib.lines.Line2D at 0x27c967b56d0>,\n",
       "  <matplotlib.lines.Line2D at 0x27c967b59a0>],\n",
       " 'caps': [<matplotlib.lines.Line2D at 0x27c967b5c70>,\n",
       "  <matplotlib.lines.Line2D at 0x27c967b5f40>],\n",
       " 'boxes': [<matplotlib.lines.Line2D at 0x27c967b5400>],\n",
       " 'medians': [<matplotlib.lines.Line2D at 0x27c967c0250>],\n",
       " 'fliers': [<matplotlib.lines.Line2D at 0x27c967c0520>],\n",
       " 'means': []}"
      ]
     },
     "execution_count": 11,
     "metadata": {},
     "output_type": "execute_result"
    },
    {
     "data": {
      "image/png": "[encoded data removed]",
      "text/plain": [
       "<Figure size 640x480 with 1 Axes>"
      ]
     },
     "metadata": {},
     "output_type": "display_data"
    }
   ],
   "source": [
    "plt.boxplot(data['FFMC'])"
   ]
  },
  {
   "cell_type": "markdown",
   "id": "c73e5972",
   "metadata": {},
   "source": [
    "=>standardization."
   ]
  },
  {
   "cell_type": "markdown",
   "id": "da0bb23c",
   "metadata": {},
   "source": [
    "* ISI:"
   ]
  },
  {
   "cell_type": "code",
   "execution_count": 12,
   "id": "110c42c6",
   "metadata": {},
   "outputs": [
    {
     "data": {
      "text/plain": [
       "(array([ 83., 308.,  93.,  26.,   2.,   0.,   0.,   0.,   0.,   1.]),\n",
       " array([ 0.  ,  5.61, 11.22, 16.83, 22.44, 28.05, 33.66, 39.27, 44.88,\n",
       "        50.49, 56.1 ]),\n",
       " <BarContainer object of 10 artists>)"
      ]
     },
     "execution_count": 12,
     "metadata": {},
     "output_type": "execute_result"
    },
    {
     "data": {
      "image/png": "[encoded data removed]",
      "text/plain": [
       "<Figure size 640x480 with 1 Axes>"
      ]
     },
     "metadata": {},
     "output_type": "display_data"
    }
   ],
   "source": [
    "plt.hist(data['ISI'])"
   ]
  },
  {
   "cell_type": "markdown",
   "id": "d3fb75f1",
   "metadata": {},
   "source": [
    "=> MinMaxScaler since the distribution is skewed to the right and there are more data points towards the lower values of ISI."
   ]
  },
  {
   "cell_type": "markdown",
   "id": "b5fe7dae",
   "metadata": {},
   "source": [
    "Now that the dataset is fully cleaned we move to the next step which is the pre-processing."
   ]
  },
  {
   "cell_type": "markdown",
   "id": "74798f54",
   "metadata": {},
   "source": [
    "## Data pre-processing "
   ]
  },
  {
   "cell_type": "code",
   "execution_count": 13,
   "id": "179900e6",
   "metadata": {},
   "outputs": [],
   "source": [
    "from sklearn.model_selection import train_test_split\n",
    "from sklearn.linear_model import LinearRegression\n",
    "from sklearn.preprocessing import MinMaxScaler,StandardScaler\n",
    "from sklearn.metrics import mean_absolute_error, mean_squared_error"
   ]
  },
  {
   "cell_type": "code",
   "execution_count": 14,
   "id": "b3c8326b",
   "metadata": {},
   "outputs": [],
   "source": [
    "import warnings\n",
    "warnings.filterwarnings('ignore')"
   ]
  },
  {
   "cell_type": "markdown",
   "id": "205961f8",
   "metadata": {},
   "source": [
    "We start by transforming the categorical variables"
   ]
  },
  {
   "cell_type": "code",
   "execution_count": 15,
   "id": "7dd6d47a",
   "metadata": {
    "scrolled": true
   },
   "outputs": [],
   "source": [
    "data['winter'] = (data['month'].isin(['dec', 'jan', 'feb'])) * 1\n",
    "data['spring'] = (data['month'].isin(['mar', 'apr', 'may'])) * 1\n",
    "data['summer'] = (data['month'].isin(['jun', 'jul', 'aug'])) * 1\n",
    "data['fall'] = (data['month'].isin(['sep', 'oct', 'nov'])) * 1"
   ]
  },
  {
   "cell_type": "code",
   "execution_count": 16,
   "id": "a9be4efb",
   "metadata": {},
   "outputs": [],
   "source": [
    "data['1'] = (data['day'].isin(['mon'])) * 1\n",
    "data['2'] = (data['day'].isin(['tue'])) * 1\n",
    "data['3'] = (data['day'].isin(['thu'])) * 1\n",
    "data['4'] = (data['day'].isin(['wed'])) * 1\n",
    "data['5'] = (data['day'].isin(['fri'])) * 1\n",
    "data['6'] = (data['day'].isin(['sat'])) * 1\n",
    "data['7'] = (data['day'].isin(['sun'])) * 1"
   ]
  },
  {
   "cell_type": "markdown",
   "id": "656c694e",
   "metadata": {},
   "source": [
    "To not confuse our model we will delete month,day."
   ]
  },
  {
   "cell_type": "code",
   "execution_count": 17,
   "id": "0c819122",
   "metadata": {},
   "outputs": [],
   "source": [
    "del data['month']\n",
    "del data['day']"
   ]
  },
  {
   "cell_type": "markdown",
   "id": "21890613",
   "metadata": {},
   "source": [
    "Now we move to scalling numerical data with the techniques found"
   ]
  },
  {
   "cell_type": "code",
   "execution_count": 18,
   "id": "7c2c98eb",
   "metadata": {},
   "outputs": [
    {
     "data": {
      "text/plain": [
       "StandardScaler()"
      ]
     },
     "execution_count": 18,
     "metadata": {},
     "output_type": "execute_result"
    }
   ],
   "source": [
    "features_to_scale = ['FFMC', 'DMC']\n",
    "data_scaled = np.array([data[col] for col in features_to_scale]).T\n",
    "scaler1 = StandardScaler()\n",
    "scaler1.fit(data_scaled)"
   ]
  },
  {
   "cell_type": "code",
   "execution_count": 19,
   "id": "1be6bf03",
   "metadata": {},
   "outputs": [
    {
     "data": {
      "text/plain": [
       "MinMaxScaler()"
      ]
     },
     "execution_count": 19,
     "metadata": {},
     "output_type": "execute_result"
    }
   ],
   "source": [
    "features_to_scale = ['ISI', 'DC']\n",
    "data_scaled = np.array([data[col] for col in features_to_scale]).T  # Transpose for row-wise data\n",
    "scaler2 = MinMaxScaler(feature_range=(0, 1)) \n",
    "scaler2.fit(data_scaled)"
   ]
  },
  {
   "cell_type": "code",
   "execution_count": 20,
   "id": "ffac2fc1",
   "metadata": {},
   "outputs": [
    {
     "name": "stdout",
     "output_type": "stream",
     "text": [
      "Training set shape (X): (410, 21)\n",
      "Testing set shape (X): (103, 21)\n"
     ]
    }
   ],
   "source": [
    "X = data.drop(columns=['area'])\n",
    "y = data['area']\n",
    "X_train, X_test, y_train, y_test = train_test_split(X, y, test_size=0.2, random_state=42)\n",
    "print(\"Training set shape (X):\", X_train.shape)\n",
    "print(\"Testing set shape (X):\", X_test.shape)"
   ]
  },
  {
   "cell_type": "markdown",
   "id": "3ecf9ce6",
   "metadata": {},
   "source": [
    "Introducing our model:\n",
    "### LinearRegression"
   ]
  },
  {
   "cell_type": "code",
   "execution_count": 21,
   "id": "5a9b66de",
   "metadata": {},
   "outputs": [],
   "source": [
    "model = LinearRegression()"
   ]
  },
  {
   "cell_type": "code",
   "execution_count": 22,
   "id": "d9eb3ad2",
   "metadata": {},
   "outputs": [],
   "source": [
    "model.fit(X_train, y_train)\n",
    "y_pred = model.predict(X_test)"
   ]
  },
  {
   "cell_type": "code",
   "execution_count": 23,
   "id": "6cb0a816",
   "metadata": {},
   "outputs": [
    {
     "name": "stdout",
     "output_type": "stream",
     "text": [
      "   X  Y    FFMC       DMC        DC       ISI  temp  RH  wind  rain  ...  2  \\\n",
      "0  5  4 -1.5423 -1.230177  0.774012  0.160428    19  50   1.5   0.0  ...  0   \n",
      "\n",
      "   3  4  5  6  7  winter  spring  summer  fall  \n",
      "0  0  0  0  0  0       0       1       0     0  \n",
      "\n",
      "[1 rows x 21 columns]\n"
     ]
    }
   ],
   "source": [
    "input_={\n",
    "    'X': 5,\n",
    "    'Y': 4,\n",
    "    'month':'mar',\n",
    "    'day':'mon',\n",
    "    'FFMC':82.1,\n",
    "    'DMC':32.1,\n",
    "    'DC':667.9,\n",
    "    'ISI':9.0,\n",
    "    'temp':19,\n",
    "    'RH':50,\n",
    "    'wind':1.5,\n",
    "    'rain':0.0\n",
    "}\n",
    "input_=pd.DataFrame([input_])\n",
    "#applying the modifications needed on the input \n",
    "input_['1'] = (input_['day'].isin(['mon'])) * 1\n",
    "input_['2'] = (input_['day'].isin(['tue'])) * 1\n",
    "input_['3'] = (input_['day'].isin(['thu'])) * 1\n",
    "input_['4'] = (input_['day'].isin(['wed'])) * 1\n",
    "input_['5'] = (input_['day'].isin(['fri'])) * 1\n",
    "input_['6'] = (input_['day'].isin(['sat'])) * 1\n",
    "input_['7'] = (input_['day'].isin(['sun'])) * 1\n",
    "input_['winter'] = (input_['month'].isin(['dec', 'jan', 'feb'])) * 1\n",
    "input_['spring'] = (input_['month'].isin(['mar', 'apr', 'may'])) * 1\n",
    "input_['summer'] = (input_['month'].isin(['jun', 'jul', 'aug'])) * 1\n",
    "input_['fall'] = (input_['month'].isin(['sep', 'oct', 'nov'])) * 1\n",
    "del input_['month']\n",
    "del input_['day']\n",
    "features_to_scale_scaler1 = ['FFMC', 'DMC']\n",
    "features_to_scale_scaler2 = ['ISI', 'DC']\n",
    "scaled_features = {}\n",
    "# Apply scaling using scaler1\n",
    "features_scaled = np.array([input_[col] for col in features_to_scale_scaler1]).T  # Transpose for row-wise data\n",
    "scaled_features = scaler1.transform(features_scaled)\n",
    "# Update DataFrame with scaled features\n",
    "input_['FFMC'] = scaled_features[:, 0]\n",
    "input_['DMC'] = scaled_features[:, 1]\n",
    "\n",
    "# Apply scaling using scaler2\n",
    "features_scaled1 = np.array([input_[col] for col in features_to_scale_scaler2]).T  # Transpose for row-wise data\n",
    "scaled_features = scaler2.transform(features_scaled1)\n",
    "# Update DataFrame with scaled features\n",
    "input_['ISI'] = scaled_features[:, 0]\n",
    "input_['DC'] = scaled_features[:, 1]\n",
    "\n",
    "print(input_)"
   ]
  },
  {
   "cell_type": "code",
   "execution_count": 24,
   "id": "cbde90f7",
   "metadata": {
    "scrolled": true
   },
   "outputs": [
    {
     "name": "stdout",
     "output_type": "stream",
     "text": [
      "The area of fire predicted is: 10.33547257841689\n"
     ]
    }
   ],
   "source": [
    "predictions = model.predict(input_)\n",
    "print(\"The area of fire predicted is:\", predictions[0])"
   ]
  },
  {
   "cell_type": "code",
   "execution_count": 25,
   "id": "8bfb964f",
   "metadata": {},
   "outputs": [
    {
     "name": "stdout",
     "output_type": "stream",
     "text": [
      "Mean Absolute Error (MAE): 16.069954694852612\n",
      "Mean Squared Error (MSE): 506.96767869448007\n",
      "Root Mean Squared Error (RMSE): 22.515942767170113\n"
     ]
    }
   ],
   "source": [
    "mae = mean_absolute_error(y_test, y_pred)\n",
    "mse = mean_squared_error(y_test, y_pred)\n",
    "rmse = np.sqrt(mse)\n",
    "\n",
    "print(\"Mean Absolute Error (MAE):\", mae)\n",
    "print(\"Mean Squared Error (MSE):\", mse)\n",
    "print(\"Root Mean Squared Error (RMSE):\", rmse)"
   ]
  },
  {
   "cell_type": "markdown",
   "id": "b1ac32d8",
   "metadata": {},
   "source": [
    "=>we notice that these metrics are showing that the model can predict results that are far from being realistic for example the mean squared error with an avg error around 22 units suggests few expected large errors contributed by the linearRegression model."
   ]
  }
 ],
 "metadata": {
  "kernelspec": {
   "display_name": "Python 3 (ipykernel)",
   "language": "python",
   "name": "python3"
  },
  "language_info": {
   "codemirror_mode": {
    "name": "ipython",
    "version": 3
   },
   "file_extension": ".py",
   "mimetype": "text/x-python",
   "name": "python",
   "nbconvert_exporter": "python",
   "pygments_lexer": "ipython3",
   "version": "3.9.13"
  }
 },
 "nbformat": 4,
 "nbformat_minor": 5
}
